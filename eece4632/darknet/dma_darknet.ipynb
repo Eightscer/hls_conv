{
 "cells": [
  {
   "cell_type": "code",
   "execution_count": 1,
   "metadata": {},
   "outputs": [
    {
     "data": {
      "application/javascript": [
       "\n",
       "try {\n",
       "require(['notebook/js/codecell'], function(codecell) {\n",
       "  codecell.CodeCell.options_default.highlight_modes[\n",
       "      'magic_text/x-csrc'] = {'reg':[/^%%microblaze/]};\n",
       "  Jupyter.notebook.events.one('kernel_ready.Kernel', function(){\n",
       "      Jupyter.notebook.get_cells().map(function(cell){\n",
       "          if (cell.cell_type == 'code'){ cell.auto_highlight(); } }) ;\n",
       "  });\n",
       "});\n",
       "} catch (e) {};\n"
      ]
     },
     "metadata": {},
     "output_type": "display_data"
    },
    {
     "data": {
      "application/javascript": [
       "\n",
       "try {\n",
       "require(['notebook/js/codecell'], function(codecell) {\n",
       "  codecell.CodeCell.options_default.highlight_modes[\n",
       "      'magic_text/x-csrc'] = {'reg':[/^%%pybind11/]};\n",
       "  Jupyter.notebook.events.one('kernel_ready.Kernel', function(){\n",
       "      Jupyter.notebook.get_cells().map(function(cell){\n",
       "          if (cell.cell_type == 'code'){ cell.auto_highlight(); } }) ;\n",
       "  });\n",
       "});\n",
       "} catch (e) {};\n"
      ]
     },
     "metadata": {},
     "output_type": "display_data"
    }
   ],
   "source": [
    "import time\n",
    "from pynq import Overlay\n",
    "import pynq.lib.dma\n",
    "from pynq import allocate\n",
    "import numpy as np\n",
    "from pynq import MMIO\n",
    "from struct import *"
   ]
  },
  {
   "cell_type": "code",
   "execution_count": 2,
   "metadata": {},
   "outputs": [],
   "source": [
    "ol = Overlay('/home/xilinx/pynq/overlays/fcl_accel/fcl_accel.bit')"
   ]
  },
  {
   "cell_type": "code",
   "execution_count": 3,
   "metadata": {},
   "outputs": [],
   "source": [
    "ol?"
   ]
  },
  {
   "cell_type": "code",
   "execution_count": 3,
   "metadata": {},
   "outputs": [],
   "source": [
    "# Initializing hardware\n",
    "dma0 = ol.fclAccel.axi_dma_0\n",
    "dma1 = ol.fclAccel.axi_dma_1\n",
    "fcl_ip = MMIO(0x43c00000, 0x10000)\n",
    "dma0_len = 0x18\n",
    "dma1_len = 0x10"
   ]
  },
  {
   "cell_type": "code",
   "execution_count": 4,
   "metadata": {},
   "outputs": [],
   "source": [
    "# Convolution layer parameters\n",
    "k = 3\n",
    "h = 224\n",
    "w = 224\n",
    "filters = 16\n",
    "channels = 3\n",
    "\n",
    "weights = filters*channels*k*k\n",
    "dim0 = h*w\n",
    "dim1 = 3 + (k*k) + dim0\n",
    "winsize = k*k"
   ]
  },
  {
   "cell_type": "code",
   "execution_count": 5,
   "metadata": {},
   "outputs": [],
   "source": [
    "# Initializing input data and buffers\n",
    "buf1 = allocate(shape=(dim1,), dtype='float32')\n",
    "buf1[:] = 0\n",
    "inp = []\n",
    "temp = []\n",
    "ker = []\n",
    "out = []\n",
    "\n",
    "for n in range(filters):\n",
    "    out.append(allocate(shape=(dim0,), dtype='float32'))\n",
    "\n",
    "fdata = open(\"inputs.dat\", \"rb\")\n",
    "wdata = open(\"weights.dat\", \"rb\")\n",
    "\n",
    "for c in range(channels):\n",
    "    inp.append(unpack('f'*dim0, fdata.read(4*dim0)))\n",
    "\n",
    "for n in range(filters):\n",
    "    temp = []\n",
    "    for c in range(channels):\n",
    "        temp.append(unpack('f'*winsize, wdata.read(4*winsize)))\n",
    "    ker.append(temp)\n"
   ]
  },
  {
   "cell_type": "code",
   "execution_count": 6,
   "metadata": {},
   "outputs": [
    {
     "name": "stdout",
     "output_type": "stream",
     "text": [
      "Filter 0 completed\n",
      "Filter 1 completed\n",
      "Filter 2 completed\n",
      "Filter 3 completed\n",
      "Filter 4 completed\n",
      "Filter 5 completed\n",
      "Filter 6 completed\n",
      "Filter 7 completed\n",
      "Filter 8 completed\n",
      "Filter 9 completed\n",
      "Filter 10 completed\n",
      "Filter 11 completed\n",
      "Filter 12 completed\n",
      "Filter 13 completed\n",
      "Filter 14 completed\n",
      "Filter 15 completed\n",
      "Hardware execution time:  12.090102672576904\n",
      "1.7720227241516113 seconds were spent filling the buffers.\n"
     ]
    }
   ],
   "source": [
    "# Run and time convolution accelerator\n",
    "t_start = time.time()\n",
    "\n",
    "t_fill_total = 0\n",
    "\n",
    "for n in range(filters):\n",
    "        \n",
    "    for c in range(channels):\n",
    "        \n",
    "        t_fill = time.time()\n",
    "        \n",
    "        buf1[:] = 0\n",
    "        \n",
    "        buf1[0] = k\n",
    "        buf1[1] = h\n",
    "        buf1[2] = w\n",
    "        \n",
    "        buf1[3:(3+winsize)] = ker[n][c]\n",
    "        buf1[(3+winsize):] = inp[c]\n",
    "        \n",
    "        t_fill_total += (time.time() - t_fill)\n",
    "        \n",
    "        fcl_ip.write(dma1_len, dim1)\n",
    "        fcl_ip.write(dma0_len, dim0)\n",
    "\n",
    "        dma1.sendchannel.transfer(buf1)\n",
    "        dma0.sendchannel.transfer(out[n])\n",
    "        dma0.recvchannel.transfer(out[n])\n",
    "        \n",
    "        dma1.sendchannel.wait()\n",
    "        dma0.sendchannel.wait()\n",
    "        dma0.recvchannel.wait()\n",
    "        \n",
    "    print(\"Filter \" + str(n) + \" completed\")\n",
    "        \n",
    "t_stop = time.time()\n",
    "\n",
    "buf1.close()\n",
    "\n",
    "print('Hardware execution time: ', t_stop-t_start)\n",
    "print(t_fill_total, \"seconds were spent filling the buffers.\")"
   ]
  },
  {
   "cell_type": "code",
   "execution_count": 7,
   "metadata": {},
   "outputs": [],
   "source": [
    "# Open expected output data for validation\n",
    "outdim = dim0*filters\n",
    "odata = open(\"exp_output.dat\", \"rb\")\n",
    "exp = []\n",
    "\n",
    "for x in range(filters):\n",
    "    exp.append(allocate(shape=(dim0,), dtype='float32'))\n",
    "    exp[x] = unpack('f'*dim0, odata.read(4*dim0))\n"
   ]
  },
  {
   "cell_type": "code",
   "execution_count": 8,
   "metadata": {},
   "outputs": [
    {
     "name": "stdout",
     "output_type": "stream",
     "text": [
      "Discrepancies in filter 0 : 0\n",
      "Discrepancies in filter 1 : 0\n",
      "Discrepancies in filter 2 : 0\n",
      "Discrepancies in filter 3 : 0\n",
      "Discrepancies in filter 4 : 0\n",
      "Discrepancies in filter 5 : 0\n",
      "Discrepancies in filter 6 : 0\n",
      "Discrepancies in filter 7 : 0\n",
      "Discrepancies in filter 8 : 0\n",
      "Discrepancies in filter 9 : 0\n",
      "Discrepancies in filter 10 : 0\n",
      "Discrepancies in filter 11 : 0\n",
      "Discrepancies in filter 12 : 0\n",
      "Discrepancies in filter 13 : 0\n",
      "Discrepancies in filter 14 : 0\n",
      "Discrepancies in filter 15 : 0\n",
      "Success. Output data matches data from exp_output.dat\n"
     ]
    }
   ],
   "source": [
    "# Compare accelerator output with expeceted outputs, print number of discrepancies\n",
    "num_errors = 0\n",
    "\n",
    "for y in range(filters):\n",
    "    discrep = 0\n",
    "    diff = 0.0\n",
    "    for x in range(dim0):\n",
    "        if out[y][x] != exp[y][x]:\n",
    "            discrep += 1\n",
    "            #diff += out[y][x] - exp[y][x]\n",
    "            #print(\"Filter:\", y, \" Index:\", x, \" out:\", out[y][x], \" exp:\", exp[y][x])\n",
    "    print(\"Discrepancies in filter\", y, \":\", discrep)\n",
    "    #if diff != 0:\n",
    "        #print(\"Average difference:\", diff/discrep)\n",
    "    num_errors += discrep\n",
    "    \n",
    "if num_errors == 0:\n",
    "    print(\"Success. Output data matches data from exp_output.dat\")\n",
    "else:\n",
    "    print(\"Failure. There were\", num_errors, \"mismatched values compared to exp_output.dat\")"
   ]
  },
  {
   "cell_type": "code",
   "execution_count": 9,
   "metadata": {},
   "outputs": [],
   "source": [
    "# Close files\n",
    "fdata.close()\n",
    "wdata.close()\n",
    "odata.close()"
   ]
  },
  {
   "cell_type": "code",
   "execution_count": null,
   "metadata": {},
   "outputs": [],
   "source": []
  }
 ],
 "metadata": {
  "kernelspec": {
   "display_name": "Python 3",
   "language": "python",
   "name": "python3"
  },
  "language_info": {
   "codemirror_mode": {
    "name": "ipython",
    "version": 3
   },
   "file_extension": ".py",
   "mimetype": "text/x-python",
   "name": "python",
   "nbconvert_exporter": "python",
   "pygments_lexer": "ipython3",
   "version": "3.6.5"
  }
 },
 "nbformat": 4,
 "nbformat_minor": 2
}

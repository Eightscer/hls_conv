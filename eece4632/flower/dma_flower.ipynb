{
 "cells": [
  {
   "cell_type": "code",
   "execution_count": 1,
   "metadata": {},
   "outputs": [
    {
     "data": {
      "application/javascript": [
       "\n",
       "try {\n",
       "require(['notebook/js/codecell'], function(codecell) {\n",
       "  codecell.CodeCell.options_default.highlight_modes[\n",
       "      'magic_text/x-csrc'] = {'reg':[/^%%microblaze/]};\n",
       "  Jupyter.notebook.events.one('kernel_ready.Kernel', function(){\n",
       "      Jupyter.notebook.get_cells().map(function(cell){\n",
       "          if (cell.cell_type == 'code'){ cell.auto_highlight(); } }) ;\n",
       "  });\n",
       "});\n",
       "} catch (e) {};\n"
      ]
     },
     "metadata": {},
     "output_type": "display_data"
    },
    {
     "data": {
      "application/javascript": [
       "\n",
       "try {\n",
       "require(['notebook/js/codecell'], function(codecell) {\n",
       "  codecell.CodeCell.options_default.highlight_modes[\n",
       "      'magic_text/x-csrc'] = {'reg':[/^%%pybind11/]};\n",
       "  Jupyter.notebook.events.one('kernel_ready.Kernel', function(){\n",
       "      Jupyter.notebook.get_cells().map(function(cell){\n",
       "          if (cell.cell_type == 'code'){ cell.auto_highlight(); } }) ;\n",
       "  });\n",
       "});\n",
       "} catch (e) {};\n"
      ]
     },
     "metadata": {},
     "output_type": "display_data"
    }
   ],
   "source": [
    "import time\n",
    "from pynq import Overlay\n",
    "import pynq.lib.dma\n",
    "from pynq import allocate\n",
    "import numpy as np\n",
    "from pynq import MMIO\n",
    "from PIL import Image"
   ]
  },
  {
   "cell_type": "code",
   "execution_count": 2,
   "metadata": {},
   "outputs": [],
   "source": [
    "ol = Overlay('/home/xilinx/pynq/overlays/fcl_accel/fcl_accel.bit')"
   ]
  },
  {
   "cell_type": "code",
   "execution_count": 3,
   "metadata": {},
   "outputs": [],
   "source": [
    "# Inititalize hardware\n",
    "dma0 = ol.fclAccel.axi_dma_0\n",
    "dma1 = ol.fclAccel.axi_dma_1\n",
    "fcl_ip = MMIO(0x43c00000, 0x10000)\n",
    "dma0_len = 0x18\n",
    "dma1_len = 0x10"
   ]
  },
  {
   "cell_type": "code",
   "execution_count": 4,
   "metadata": {},
   "outputs": [],
   "source": [
    "# Open sample image file (must be in same directory)\n",
    "f = \"flower128.jpg\"\n",
    "img = Image.open(f)"
   ]
  },
  {
   "cell_type": "code",
   "execution_count": 5,
   "metadata": {},
   "outputs": [],
   "source": [
    "# Hardware parameters\n",
    "w = img.size[0]\n",
    "h = img.size[1]\n",
    "k = 3\n",
    "winsize = k*k\n",
    "channels = 3\n",
    "filters = 6\n",
    "stride = 1\n",
    "pads = 1\n",
    "\n",
    "dim0 = w*h\n",
    "dim1 = 3 + (k*k) + dim0"
   ]
  },
  {
   "cell_type": "code",
   "execution_count": 6,
   "metadata": {},
   "outputs": [],
   "source": [
    "# Convert image into float values\n",
    "data = np.array(img).transpose((2, 0, 1))\n",
    "inp = []\n",
    "for c in range(channels):\n",
    "    inp.append(data[c].flatten())\n",
    "    inp[c] = inp[c]/255.0\n"
   ]
  },
  {
   "cell_type": "code",
   "execution_count": 7,
   "metadata": {},
   "outputs": [],
   "source": [
    "# Filters\n",
    "kernels = []\n",
    "kernels.append(np.array([[-0.5, -0.5, -0.5], [0, 0, 0], [0.5, 0.5, 0.5]]))\n",
    "kernels.append(np.array([[1/4, -1/4, 1/4], [2/4, -2/4, 2/4], [3/4, -3/4, 3/4]]))\n",
    "kernels.append(np.array([[1/2, 1/4, 0], [1/4, 0, -1/4], [0, -1/4, -1/2]]))\n",
    "kernels.append(np.array([[-1/2, -1/2, -1/2], [3/4, 3/4, 3/4], [-1/2, -1/2, -1/2]]))\n",
    "kernels.append(np.array([[1/8, 1/8, 1/8], [1/8, 1/8, 1/8], [1/8, 1/8, 1/8]]))\n",
    "kernels.append(np.array([[0.0, -1/4, 0.0], [-1/4, 1, -1/4], [0.0, -1/4, 0.0]]))"
   ]
  },
  {
   "cell_type": "code",
   "execution_count": 8,
   "metadata": {},
   "outputs": [],
   "source": [
    "# Fill kernel arrays\n",
    "ker = []\n",
    "for n in range(filters):\n",
    "    ker.append(kernels[n].flatten())\n",
    "#print(ker)"
   ]
  },
  {
   "cell_type": "code",
   "execution_count": 9,
   "metadata": {},
   "outputs": [
    {
     "name": "stdout",
     "output_type": "stream",
     "text": [
      "Filter 0 completed\n",
      "Filter 1 completed\n",
      "Filter 2 completed\n",
      "Filter 3 completed\n",
      "Filter 4 completed\n",
      "Filter 5 completed\n",
      "Hardware execution time: 1.3472671508789062 seconds.\n",
      "0.06699252128601074 seconds were spent filling the buffers.\n"
     ]
    }
   ],
   "source": [
    "# Run and time HW implementation\n",
    "out = []\n",
    "\n",
    "buf1 = allocate(shape=(dim1,), dtype='float32')\n",
    "\n",
    "for n in range(filters):\n",
    "    out.append(allocate(shape=(dim0,), dtype='float32'))\n",
    "\n",
    "t_start = time.time()\n",
    "t_fill_total = 0\n",
    "\n",
    "for n in range(filters):\n",
    "        \n",
    "    for c in range(channels):\n",
    "        \n",
    "        t_fill = time.time()\n",
    "        \n",
    "        buf1[:] = 0\n",
    "        \n",
    "        buf1[0] = k\n",
    "        buf1[1] = h\n",
    "        buf1[2] = w\n",
    "        \n",
    "        #print(ker[n])\n",
    "        buf1[3:(3+winsize)] = ker[n]\n",
    "        #print(buf1[3:(3+winsize)])\n",
    "        buf1[(3+winsize):] = inp[c]\n",
    "        \n",
    "        t_fill_total += (time.time() - t_fill)\n",
    "        \n",
    "        fcl_ip.write(dma1_len, dim1)\n",
    "        fcl_ip.write(dma0_len, dim0)\n",
    "\n",
    "        dma1.sendchannel.transfer(buf1)\n",
    "        dma0.sendchannel.transfer(out[n])\n",
    "        dma0.recvchannel.transfer(out[n])\n",
    "        \n",
    "        dma1.sendchannel.wait()\n",
    "        dma0.sendchannel.wait()\n",
    "        dma0.recvchannel.wait()\n",
    "        \n",
    "    print(\"Filter \" + str(n) + \" completed\")\n",
    "        \n",
    "t_stop = time.time()\n",
    "\n",
    "buf1.close()\n",
    "\n",
    "print('Hardware execution time:', t_stop-t_start, \"seconds.\")\n",
    "print(t_fill_total, \"seconds were spent filling the buffers.\")"
   ]
  },
  {
   "cell_type": "code",
   "execution_count": 19,
   "metadata": {},
   "outputs": [],
   "source": [
    "# Saves image for each output map\n",
    "for n in range(filters):\n",
    "    ar = np.reshape(out[n], (128,128))\n",
    "    im = Image.fromarray(ar*255)\n",
    "    im = im.convert(\"L\")\n",
    "    im.show()\n",
    "    im.save(\"flower_outputs/hw_out{}.jpg\".format(n))"
   ]
  },
  {
   "cell_type": "code",
   "execution_count": 11,
   "metadata": {},
   "outputs": [],
   "source": [
    "# Software implementation\n",
    "# Input parameters\n",
    "w_in = img.size[0]      # Input image width\n",
    "h_in = img.size[1]      # Input image height\n",
    "c_in = channels                # Input image channels (RGB)\n",
    "c_out = filters               # Output feature map channels\n",
    "k = 3                   # Kernel size\n",
    "stride = 1\n",
    "pads = 1\n",
    "\n",
    "w = np.zeros((c_out, c_in, k, k))   # Weights\n",
    "b = np.zeros((c_out))               # Biases\n",
    "\n",
    "# Output dimensions\n",
    "w_out = (w_in + 2*pads - k) // stride + 1  # Output feature map width\n",
    "h_out = (h_in + 2*pads - k) // stride + 1  # Output feature map height"
   ]
  },
  {
   "cell_type": "code",
   "execution_count": 12,
   "metadata": {},
   "outputs": [],
   "source": [
    "# Padding image\n",
    "img2 = img.copy()\n",
    "img2 = np.pad(img2, (pads, pads), 'constant')\n",
    "\n",
    "# Converting input image to numpy arrays\n",
    "data2 = np.array(img2).transpose((2, 0, pads))\n",
    "#data2 = np.array(img2)\n",
    "data2 = np.expand_dims(data2, axis=0)\n",
    "data2 = data2/255.0"
   ]
  },
  {
   "cell_type": "code",
   "execution_count": 13,
   "metadata": {},
   "outputs": [],
   "source": [
    "# Assigning weights and biases for software\n",
    "for wi in range(c_out):\n",
    "    for wj in range(c_in):\n",
    "        if(wi < len(kernels)):\n",
    "            w[wi][wj] = kernels[wi]\n",
    "        else:\n",
    "            # Use random weights if not enough filters were defined\n",
    "            print(\"Assigning random weight to\", wi, wj)\n",
    "            w[wi][wj] = np.random.normal(0, 1)"
   ]
  },
  {
   "cell_type": "code",
   "execution_count": 14,
   "metadata": {},
   "outputs": [],
   "source": [
    "# Define convolution algorithm\n",
    "def conv(data):\n",
    "    #print(\"w_out:\", w_out, \"h_out:\", h_out, \"c_out:\", c_out, \"c_in:\", c_in)\n",
    "    output_map = np.zeros((1, c_out, w_out, h_out))\n",
    "    for oi in range(w_out):\n",
    "        for oj in range(h_out):\n",
    "            for co in range(c_out):\n",
    "                total = 0\n",
    "                for ci in range(c_in):\n",
    "                    kt = 0\n",
    "                    for ki in range(k):\n",
    "                        for kj in range(k):\n",
    "                            weight = w[co, ci, ki, kj]\n",
    "                            y = ki+oi*stride\n",
    "                            x = kj+oj*stride\n",
    "                            val = data[0, ci, y, x]\n",
    "                            kt += weight * val\n",
    "                    total += kt\n",
    "                output_map[0, co, oi, oj] = total\n",
    "    return output_map"
   ]
  },
  {
   "cell_type": "code",
   "execution_count": 15,
   "metadata": {},
   "outputs": [
    {
     "name": "stdout",
     "output_type": "stream",
     "text": [
      "Software execution time: 42.50225281715393 seconds.\n"
     ]
    }
   ],
   "source": [
    "# Timing of software implementation\n",
    "start = time.time()\n",
    "output = conv(data2)\n",
    "end = time.time()\n",
    "print(\"Software execution time:\", end-start, \"seconds.\")"
   ]
  },
  {
   "cell_type": "code",
   "execution_count": 18,
   "metadata": {},
   "outputs": [],
   "source": [
    "# Saves image for each output map\n",
    "for n in range(filters):\n",
    "    ar = np.reshape(output[0][n], (128, 128))\n",
    "    im = Image.fromarray(ar*255)\n",
    "    im = im.convert(\"L\")\n",
    "    im.show()\n",
    "    im.save(\"flower_outputs/sw_out{}.jpg\".format(n))"
   ]
  },
  {
   "cell_type": "code",
   "execution_count": 17,
   "metadata": {},
   "outputs": [
    {
     "name": "stdout",
     "output_type": "stream",
     "text": [
      "Hardware was 31.547011882110436 times faster than software.\n"
     ]
    }
   ],
   "source": [
    "# Time comparison\n",
    "print(\"Hardware was\", (end-start)/(t_stop-t_start), \"times faster than software.\")"
   ]
  },
  {
   "cell_type": "code",
   "execution_count": null,
   "metadata": {},
   "outputs": [],
   "source": []
  }
 ],
 "metadata": {
  "kernelspec": {
   "display_name": "Python 3",
   "language": "python",
   "name": "python3"
  },
  "language_info": {
   "codemirror_mode": {
    "name": "ipython",
    "version": 3
   },
   "file_extension": ".py",
   "mimetype": "text/x-python",
   "name": "python",
   "nbconvert_exporter": "python",
   "pygments_lexer": "ipython3",
   "version": "3.6.5"
  }
 },
 "nbformat": 4,
 "nbformat_minor": 2
}
